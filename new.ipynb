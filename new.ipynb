{
 "cells": [
  {
   "cell_type": "code",
   "execution_count": 284,
   "metadata": {},
   "outputs": [
    {
     "name": "stdout",
     "output_type": "stream",
     "text": [
      "Requirement already satisfied: langchain==0.0.206 in c:\\users\\mr darklord\\appdata\\local\\programs\\python\\python310\\lib\\site-packages (from -r requirements.txt (line 1)) (0.0.206)\n",
      "Requirement already satisfied: openai==0.27.8 in c:\\users\\mr darklord\\appdata\\local\\programs\\python\\python310\\lib\\site-packages (from -r requirements.txt (line 2)) (0.27.8)\n",
      "Requirement already satisfied: faiss-cpu in c:\\users\\mr darklord\\appdata\\local\\programs\\python\\python310\\lib\\site-packages (from -r requirements.txt (line 3)) (1.7.4)\n",
      "Collecting streamlit (from -r requirements.txt (line 5))\n",
      "  Downloading streamlit-1.23.1-py2.py3-none-any.whl (8.9 MB)\n",
      "                                              0.0/8.9 MB ? eta -:--:--\n",
      "                                              0.1/8.9 MB 1.5 MB/s eta 0:00:06\n",
      "     -                                        0.2/8.9 MB 2.3 MB/s eta 0:00:04\n",
      "     -                                        0.4/8.9 MB 3.0 MB/s eta 0:00:03\n",
      "     ---                                      0.7/8.9 MB 3.8 MB/s eta 0:00:03\n",
      "     -----                                    1.1/8.9 MB 4.7 MB/s eta 0:00:02\n",
      "     -------                                  1.6/8.9 MB 5.5 MB/s eta 0:00:02\n",
      "     ---------                                2.0/8.9 MB 6.1 MB/s eta 0:00:02\n",
      "     -----------                              2.5/8.9 MB 6.5 MB/s eta 0:00:01\n",
      "     -----------                              2.6/8.9 MB 6.8 MB/s eta 0:00:01\n",
      "     -----------                              2.6/8.9 MB 6.8 MB/s eta 0:00:01\n",
      "     -----------                              2.6/8.9 MB 6.8 MB/s eta 0:00:01\n",
      "     -----------                              2.6/8.9 MB 4.7 MB/s eta 0:00:02\n",
      "     -----------                              2.6/8.9 MB 4.7 MB/s eta 0:00:02\n",
      "     -----------                              2.6/8.9 MB 4.1 MB/s eta 0:00:02\n",
      "     ---------------                          3.5/8.9 MB 5.2 MB/s eta 0:00:02\n",
      "     -----------------------                  5.2/8.9 MB 7.1 MB/s eta 0:00:01\n",
      "     --------------------------               5.8/8.9 MB 7.4 MB/s eta 0:00:01\n",
      "     --------------------------               5.9/8.9 MB 7.1 MB/s eta 0:00:01\n",
      "     ----------------------------             6.3/8.9 MB 7.2 MB/s eta 0:00:01\n",
      "     -----------------------------            6.6/8.9 MB 7.3 MB/s eta 0:00:01\n",
      "     ------------------------------           6.7/8.9 MB 7.0 MB/s eta 0:00:01\n",
      "     -------------------------------          7.0/8.9 MB 6.9 MB/s eta 0:00:01\n",
      "     -------------------------------          7.0/8.9 MB 6.7 MB/s eta 0:00:01\n",
      "     --------------------------------         7.1/8.9 MB 6.4 MB/s eta 0:00:01\n",
      "     ---------------------------------        7.5/8.9 MB 6.5 MB/s eta 0:00:01\n",
      "     -----------------------------------      8.0/8.9 MB 6.6 MB/s eta 0:00:01\n",
      "     ------------------------------------     8.0/8.9 MB 6.5 MB/s eta 0:00:01\n",
      "     ---------------------------------------  8.9/8.9 MB 6.8 MB/s eta 0:00:01\n",
      "     ---------------------------------------- 8.9/8.9 MB 6.6 MB/s eta 0:00:00\n",
      "Requirement already satisfied: PyYAML>=5.4.1 in c:\\users\\mr darklord\\appdata\\local\\programs\\python\\python310\\lib\\site-packages (from langchain==0.0.206->-r requirements.txt (line 1)) (6.0)\n",
      "Requirement already satisfied: SQLAlchemy<3,>=1.4 in c:\\users\\mr darklord\\appdata\\local\\programs\\python\\python310\\lib\\site-packages (from langchain==0.0.206->-r requirements.txt (line 1)) (1.4.48)\n",
      "Requirement already satisfied: aiohttp<4.0.0,>=3.8.3 in c:\\users\\mr darklord\\appdata\\local\\programs\\python\\python310\\lib\\site-packages (from langchain==0.0.206->-r requirements.txt (line 1)) (3.8.4)\n",
      "Requirement already satisfied: async-timeout<5.0.0,>=4.0.0 in c:\\users\\mr darklord\\appdata\\local\\programs\\python\\python310\\lib\\site-packages (from langchain==0.0.206->-r requirements.txt (line 1)) (4.0.2)\n",
      "Requirement already satisfied: dataclasses-json<0.6.0,>=0.5.7 in c:\\users\\mr darklord\\appdata\\local\\programs\\python\\python310\\lib\\site-packages (from langchain==0.0.206->-r requirements.txt (line 1)) (0.5.7)\n",
      "Requirement already satisfied: langchainplus-sdk>=0.0.13 in c:\\users\\mr darklord\\appdata\\local\\programs\\python\\python310\\lib\\site-packages (from langchain==0.0.206->-r requirements.txt (line 1)) (0.0.16)\n",
      "Requirement already satisfied: numexpr<3.0.0,>=2.8.4 in c:\\users\\mr darklord\\appdata\\local\\programs\\python\\python310\\lib\\site-packages (from langchain==0.0.206->-r requirements.txt (line 1)) (2.8.4)\n",
      "Requirement already satisfied: numpy<2,>=1 in c:\\users\\mr darklord\\appdata\\local\\programs\\python\\python310\\lib\\site-packages (from langchain==0.0.206->-r requirements.txt (line 1)) (1.23.5)\n",
      "Requirement already satisfied: openapi-schema-pydantic<2.0,>=1.2 in c:\\users\\mr darklord\\appdata\\local\\programs\\python\\python310\\lib\\site-packages (from langchain==0.0.206->-r requirements.txt (line 1)) (1.2.4)\n",
      "Requirement already satisfied: pydantic<2,>=1 in c:\\users\\mr darklord\\appdata\\local\\programs\\python\\python310\\lib\\site-packages (from langchain==0.0.206->-r requirements.txt (line 1)) (1.10.9)\n",
      "Requirement already satisfied: requests<3,>=2 in c:\\users\\mr darklord\\appdata\\local\\programs\\python\\python310\\lib\\site-packages (from langchain==0.0.206->-r requirements.txt (line 1)) (2.30.0)\n",
      "Requirement already satisfied: tenacity<9.0.0,>=8.1.0 in c:\\users\\mr darklord\\appdata\\local\\programs\\python\\python310\\lib\\site-packages (from langchain==0.0.206->-r requirements.txt (line 1)) (8.2.2)\n",
      "Requirement already satisfied: tqdm in c:\\users\\mr darklord\\appdata\\local\\programs\\python\\python310\\lib\\site-packages (from openai==0.27.8->-r requirements.txt (line 2)) (4.65.0)\n",
      "Requirement already satisfied: altair<6,>=4.0 in c:\\users\\mr darklord\\appdata\\local\\programs\\python\\python310\\lib\\site-packages (from streamlit->-r requirements.txt (line 5)) (5.0.1)\n",
      "Requirement already satisfied: blinker<2,>=1.0.0 in c:\\users\\mr darklord\\appdata\\local\\programs\\python\\python310\\lib\\site-packages (from streamlit->-r requirements.txt (line 5)) (1.6.2)\n",
      "Requirement already satisfied: cachetools<6,>=4.0 in c:\\users\\mr darklord\\appdata\\local\\programs\\python\\python310\\lib\\site-packages (from streamlit->-r requirements.txt (line 5)) (5.3.0)\n",
      "Requirement already satisfied: click<9,>=7.0 in c:\\users\\mr darklord\\appdata\\local\\programs\\python\\python310\\lib\\site-packages (from streamlit->-r requirements.txt (line 5)) (8.1.3)\n",
      "Requirement already satisfied: importlib-metadata<7,>=1.4 in c:\\users\\mr darklord\\appdata\\local\\programs\\python\\python310\\lib\\site-packages (from streamlit->-r requirements.txt (line 5)) (6.0.1)\n",
      "Requirement already satisfied: packaging<24,>=14.1 in c:\\users\\mr darklord\\appdata\\local\\programs\\python\\python310\\lib\\site-packages (from streamlit->-r requirements.txt (line 5)) (23.1)\n",
      "Requirement already satisfied: pandas<3,>=0.25 in c:\\users\\mr darklord\\appdata\\local\\programs\\python\\python310\\lib\\site-packages (from streamlit->-r requirements.txt (line 5)) (1.5.3)\n",
      "Requirement already satisfied: pillow<10,>=6.2.0 in c:\\users\\mr darklord\\appdata\\local\\programs\\python\\python310\\lib\\site-packages (from streamlit->-r requirements.txt (line 5)) (9.5.0)\n",
      "Requirement already satisfied: protobuf<5,>=3.20 in c:\\users\\mr darklord\\appdata\\local\\programs\\python\\python310\\lib\\site-packages (from streamlit->-r requirements.txt (line 5)) (4.23.0)\n",
      "Requirement already satisfied: pyarrow>=4.0 in c:\\users\\mr darklord\\appdata\\local\\programs\\python\\python310\\lib\\site-packages (from streamlit->-r requirements.txt (line 5)) (11.0.0)\n",
      "Requirement already satisfied: pympler<2,>=0.9 in c:\\users\\mr darklord\\appdata\\local\\programs\\python\\python310\\lib\\site-packages (from streamlit->-r requirements.txt (line 5)) (1.0.1)\n",
      "Requirement already satisfied: python-dateutil<3,>=2 in c:\\users\\mr darklord\\appdata\\local\\programs\\python\\python310\\lib\\site-packages (from streamlit->-r requirements.txt (line 5)) (2.8.2)\n",
      "Requirement already satisfied: rich<14,>=10.11.0 in c:\\users\\mr darklord\\appdata\\local\\programs\\python\\python310\\lib\\site-packages (from streamlit->-r requirements.txt (line 5)) (13.4.2)\n",
      "Requirement already satisfied: toml<2 in c:\\users\\mr darklord\\appdata\\local\\programs\\python\\python310\\lib\\site-packages (from streamlit->-r requirements.txt (line 5)) (0.10.2)\n",
      "Requirement already satisfied: typing-extensions<5,>=4.0.1 in c:\\users\\mr darklord\\appdata\\local\\programs\\python\\python310\\lib\\site-packages (from streamlit->-r requirements.txt (line 5)) (4.5.0)\n",
      "Requirement already satisfied: tzlocal<5,>=1.1 in c:\\users\\mr darklord\\appdata\\local\\programs\\python\\python310\\lib\\site-packages (from streamlit->-r requirements.txt (line 5)) (4.3)\n",
      "Requirement already satisfied: validators<1,>=0.2 in c:\\users\\mr darklord\\appdata\\local\\programs\\python\\python310\\lib\\site-packages (from streamlit->-r requirements.txt (line 5)) (0.20.0)\n",
      "Requirement already satisfied: gitpython!=3.1.19,<4,>=3 in c:\\users\\mr darklord\\appdata\\local\\programs\\python\\python310\\lib\\site-packages (from streamlit->-r requirements.txt (line 5)) (3.1.31)\n",
      "Requirement already satisfied: pydeck<1,>=0.1.dev5 in c:\\users\\mr darklord\\appdata\\local\\programs\\python\\python310\\lib\\site-packages (from streamlit->-r requirements.txt (line 5)) (0.8.1b0)\n",
      "Requirement already satisfied: tornado<7,>=6.0.3 in c:\\users\\mr darklord\\appdata\\local\\programs\\python\\python310\\lib\\site-packages (from streamlit->-r requirements.txt (line 5)) (6.3.2)\n",
      "Requirement already satisfied: watchdog in c:\\users\\mr darklord\\appdata\\local\\programs\\python\\python310\\lib\\site-packages (from streamlit->-r requirements.txt (line 5)) (3.0.0)\n",
      "Requirement already satisfied: attrs>=17.3.0 in c:\\users\\mr darklord\\appdata\\local\\programs\\python\\python310\\lib\\site-packages (from aiohttp<4.0.0,>=3.8.3->langchain==0.0.206->-r requirements.txt (line 1)) (23.1.0)\n",
      "Requirement already satisfied: charset-normalizer<4.0,>=2.0 in c:\\users\\mr darklord\\appdata\\local\\programs\\python\\python310\\lib\\site-packages (from aiohttp<4.0.0,>=3.8.3->langchain==0.0.206->-r requirements.txt (line 1)) (3.1.0)\n",
      "Requirement already satisfied: multidict<7.0,>=4.5 in c:\\users\\mr darklord\\appdata\\local\\programs\\python\\python310\\lib\\site-packages (from aiohttp<4.0.0,>=3.8.3->langchain==0.0.206->-r requirements.txt (line 1)) (6.0.4)\n",
      "Requirement already satisfied: yarl<2.0,>=1.0 in c:\\users\\mr darklord\\appdata\\local\\programs\\python\\python310\\lib\\site-packages (from aiohttp<4.0.0,>=3.8.3->langchain==0.0.206->-r requirements.txt (line 1)) (1.9.2)\n",
      "Requirement already satisfied: frozenlist>=1.1.1 in c:\\users\\mr darklord\\appdata\\local\\programs\\python\\python310\\lib\\site-packages (from aiohttp<4.0.0,>=3.8.3->langchain==0.0.206->-r requirements.txt (line 1)) (1.3.3)\n",
      "Requirement already satisfied: aiosignal>=1.1.2 in c:\\users\\mr darklord\\appdata\\local\\programs\\python\\python310\\lib\\site-packages (from aiohttp<4.0.0,>=3.8.3->langchain==0.0.206->-r requirements.txt (line 1)) (1.3.1)\n",
      "Requirement already satisfied: jinja2 in c:\\users\\mr darklord\\appdata\\local\\programs\\python\\python310\\lib\\site-packages (from altair<6,>=4.0->streamlit->-r requirements.txt (line 5)) (3.1.2)\n",
      "Requirement already satisfied: jsonschema>=3.0 in c:\\users\\mr darklord\\appdata\\local\\programs\\python\\python310\\lib\\site-packages (from altair<6,>=4.0->streamlit->-r requirements.txt (line 5)) (4.17.3)\n",
      "Requirement already satisfied: toolz in c:\\users\\mr darklord\\appdata\\local\\programs\\python\\python310\\lib\\site-packages (from altair<6,>=4.0->streamlit->-r requirements.txt (line 5)) (0.12.0)\n",
      "Requirement already satisfied: colorama in c:\\users\\mr darklord\\appdata\\local\\programs\\python\\python310\\lib\\site-packages (from click<9,>=7.0->streamlit->-r requirements.txt (line 5)) (0.4.6)\n",
      "Requirement already satisfied: marshmallow<4.0.0,>=3.3.0 in c:\\users\\mr darklord\\appdata\\local\\programs\\python\\python310\\lib\\site-packages (from dataclasses-json<0.6.0,>=0.5.7->langchain==0.0.206->-r requirements.txt (line 1)) (3.19.0)\n",
      "Requirement already satisfied: marshmallow-enum<2.0.0,>=1.5.1 in c:\\users\\mr darklord\\appdata\\local\\programs\\python\\python310\\lib\\site-packages (from dataclasses-json<0.6.0,>=0.5.7->langchain==0.0.206->-r requirements.txt (line 1)) (1.5.1)\n",
      "Requirement already satisfied: typing-inspect>=0.4.0 in c:\\users\\mr darklord\\appdata\\local\\programs\\python\\python310\\lib\\site-packages (from dataclasses-json<0.6.0,>=0.5.7->langchain==0.0.206->-r requirements.txt (line 1)) (0.8.0)\n",
      "Requirement already satisfied: gitdb<5,>=4.0.1 in c:\\users\\mr darklord\\appdata\\local\\programs\\python\\python310\\lib\\site-packages (from gitpython!=3.1.19,<4,>=3->streamlit->-r requirements.txt (line 5)) (4.0.10)\n",
      "Requirement already satisfied: zipp>=0.5 in c:\\users\\mr darklord\\appdata\\local\\programs\\python\\python310\\lib\\site-packages (from importlib-metadata<7,>=1.4->streamlit->-r requirements.txt (line 5)) (3.15.0)\n",
      "Requirement already satisfied: pytz>=2020.1 in c:\\users\\mr darklord\\appdata\\local\\programs\\python\\python310\\lib\\site-packages (from pandas<3,>=0.25->streamlit->-r requirements.txt (line 5)) (2023.3)\n",
      "Requirement already satisfied: six>=1.5 in c:\\users\\mr darklord\\appdata\\local\\programs\\python\\python310\\lib\\site-packages (from python-dateutil<3,>=2->streamlit->-r requirements.txt (line 5)) (1.16.0)\n",
      "Requirement already satisfied: idna<4,>=2.5 in c:\\users\\mr darklord\\appdata\\local\\programs\\python\\python310\\lib\\site-packages (from requests<3,>=2->langchain==0.0.206->-r requirements.txt (line 1)) (3.4)\n",
      "Requirement already satisfied: urllib3<3,>=1.21.1 in c:\\users\\mr darklord\\appdata\\local\\programs\\python\\python310\\lib\\site-packages (from requests<3,>=2->langchain==0.0.206->-r requirements.txt (line 1)) (1.26.15)\n",
      "Requirement already satisfied: certifi>=2017.4.17 in c:\\users\\mr darklord\\appdata\\local\\programs\\python\\python310\\lib\\site-packages (from requests<3,>=2->langchain==0.0.206->-r requirements.txt (line 1)) (2023.5.7)\n",
      "Requirement already satisfied: markdown-it-py>=2.2.0 in c:\\users\\mr darklord\\appdata\\local\\programs\\python\\python310\\lib\\site-packages (from rich<14,>=10.11.0->streamlit->-r requirements.txt (line 5)) (2.2.0)\n",
      "Requirement already satisfied: pygments<3.0.0,>=2.13.0 in c:\\users\\mr darklord\\appdata\\local\\programs\\python\\python310\\lib\\site-packages (from rich<14,>=10.11.0->streamlit->-r requirements.txt (line 5)) (2.15.1)\n",
      "Requirement already satisfied: greenlet!=0.4.17 in c:\\users\\mr darklord\\appdata\\local\\programs\\python\\python310\\lib\\site-packages (from SQLAlchemy<3,>=1.4->langchain==0.0.206->-r requirements.txt (line 1)) (2.0.2)\n",
      "Requirement already satisfied: pytz-deprecation-shim in c:\\users\\mr darklord\\appdata\\local\\programs\\python\\python310\\lib\\site-packages (from tzlocal<5,>=1.1->streamlit->-r requirements.txt (line 5)) (0.1.0.post0)\n",
      "Requirement already satisfied: tzdata in c:\\users\\mr darklord\\appdata\\local\\programs\\python\\python310\\lib\\site-packages (from tzlocal<5,>=1.1->streamlit->-r requirements.txt (line 5)) (2023.3)\n",
      "Requirement already satisfied: decorator>=3.4.0 in c:\\users\\mr darklord\\appdata\\local\\programs\\python\\python310\\lib\\site-packages (from validators<1,>=0.2->streamlit->-r requirements.txt (line 5)) (5.1.1)\n",
      "Requirement already satisfied: smmap<6,>=3.0.1 in c:\\users\\mr darklord\\appdata\\local\\programs\\python\\python310\\lib\\site-packages (from gitdb<5,>=4.0.1->gitpython!=3.1.19,<4,>=3->streamlit->-r requirements.txt (line 5)) (5.0.0)\n",
      "Requirement already satisfied: MarkupSafe>=2.0 in c:\\users\\mr darklord\\appdata\\local\\programs\\python\\python310\\lib\\site-packages (from jinja2->altair<6,>=4.0->streamlit->-r requirements.txt (line 5)) (2.1.2)\n",
      "Requirement already satisfied: pyrsistent!=0.17.0,!=0.17.1,!=0.17.2,>=0.14.0 in c:\\users\\mr darklord\\appdata\\local\\programs\\python\\python310\\lib\\site-packages (from jsonschema>=3.0->altair<6,>=4.0->streamlit->-r requirements.txt (line 5)) (0.19.3)\n",
      "Requirement already satisfied: mdurl~=0.1 in c:\\users\\mr darklord\\appdata\\local\\programs\\python\\python310\\lib\\site-packages (from markdown-it-py>=2.2.0->rich<14,>=10.11.0->streamlit->-r requirements.txt (line 5)) (0.1.2)\n",
      "Requirement already satisfied: mypy-extensions>=0.3.0 in c:\\users\\mr darklord\\appdata\\local\\programs\\python\\python310\\lib\\site-packages (from typing-inspect>=0.4.0->dataclasses-json<0.6.0,>=0.5.7->langchain==0.0.206->-r requirements.txt (line 1)) (1.0.0)\n",
      "Installing collected packages: streamlit\n",
      "Successfully installed streamlit-1.23.1\n"
     ]
    }
   ],
   "source": [
    "!pip install -r requirements.txt"
   ]
  },
  {
   "cell_type": "code",
   "execution_count": 262,
   "metadata": {},
   "outputs": [],
   "source": [
    "import os\n",
    "\n",
    "os.environ[\"OPENAI_API_KEY\"] = 'Enter your api key here.'"
   ]
  },
  {
   "cell_type": "code",
   "execution_count": 263,
   "metadata": {},
   "outputs": [],
   "source": [
    "# import pinecone\n",
    "from langchain.embeddings.openai import OpenAIEmbeddings\n",
    "# from langchain.vectorstores import Pinecone\n",
    "# from langchain.chat_models import AzureChatOpenAI\n",
    "from langchain.chains import RetrievalQA\n",
    "\n",
    "# load agents and tools modules\n",
    "import pandas as pd\n",
    "# from azure.storage.filedatalake import DataLakeServiceClient\n",
    "from io import StringIO\n",
    "from langchain.tools.python.tool import PythonAstREPLTool\n",
    "from langchain.agents import initialize_agent, Tool\n",
    "from langchain.agents import AgentType\n",
    "from langchain import LLMMathChain\n",
    "\n",
    "\n",
    "\n",
    "from langchain.vectorstores import FAISS\n",
    "from langchain.chat_models import ChatOpenAI\n",
    "\n",
    "# The easy document loader for text\n",
    "from langchain.document_loaders import TextLoader\n",
    "from langchain.text_splitter import RecursiveCharacterTextSplitter\n",
    "\n",
    "from langchain.document_loaders import CSVLoader"
   ]
  },
  {
   "cell_type": "code",
   "execution_count": 264,
   "metadata": {},
   "outputs": [],
   "source": [
    "model_name = 'text-embedding-ada-002'\n",
    "\n",
    "# initialize embeddings object; for use with user query/input\n",
    "embed = OpenAIEmbeddings(\n",
    "                model=model_name\n",
    "            )"
   ]
  },
  {
   "cell_type": "code",
   "execution_count": 265,
   "metadata": {},
   "outputs": [
    {
     "name": "stdout",
     "output_type": "stream",
     "text": [
      "You have 1 document\n",
      "You have 29669 characters in that document\n"
     ]
    }
   ],
   "source": [
    "loader = TextLoader('hr_policy.txt')\n",
    "doc = loader.load()\n",
    "print (f\"You have {len(doc)} document\")\n",
    "print (f\"You have {len(doc[0].page_content)} characters in that document\")\n",
    "\n",
    "text_splitter = RecursiveCharacterTextSplitter(chunk_size=400, chunk_overlap=20)\n",
    "docs = text_splitter.split_documents(doc)\n",
    "\n",
    "# initialize langchain vectorstore\n",
    "vectorstore = FAISS.from_documents(docs, embed)\n",
    "\n",
    "\n"
   ]
  },
  {
   "cell_type": "code",
   "execution_count": 266,
   "metadata": {},
   "outputs": [
    {
     "name": "stdout",
     "output_type": "stream",
     "text": [
      "Now you have 93 documents that have an average of 319 characters \n"
     ]
    }
   ],
   "source": [
    "# Get the total number of characters so we can see the average later\n",
    "num_total_characters = sum([len(x.page_content) for x in docs])\n",
    "# print([print(x) for x in docs])\n",
    "\n",
    "print (f\"Now you have {len(docs)} documents that have an average of {num_total_characters / len(docs):,.0f} characters \")"
   ]
  },
  {
   "cell_type": "code",
   "execution_count": 267,
   "metadata": {},
   "outputs": [],
   "source": [
    "# initialize LLM object\n",
    "llm = ChatOpenAI(    \n",
    "    model_name=\"gpt-3.5-turbo\", \n",
    "    )"
   ]
  },
  {
   "cell_type": "code",
   "execution_count": 268,
   "metadata": {},
   "outputs": [],
   "source": [
    "# initialize vectorstore retriever object\n",
    "timekeeping_policy = RetrievalQA.from_chain_type(\n",
    "    llm=llm,\n",
    "    chain_type=\"stuff\",\n",
    "    retriever=vectorstore.as_retriever(),\n",
    ")"
   ]
  },
  {
   "cell_type": "code",
   "execution_count": 269,
   "metadata": {},
   "outputs": [],
   "source": [
    "file = \"employee_data.csv\"\n",
    "# csv_file = StringIO(\"employee_data.csv\") \n",
    "df = pd.read_csv(file) # load employee_data.csv as dataframe\n",
    "# print(df)\n",
    "python = PythonAstREPLTool(locals={\"df\": df}) # set access of python_repl tool to the dataframe\n"
   ]
  },
  {
   "cell_type": "code",
   "execution_count": 270,
   "metadata": {},
   "outputs": [],
   "source": [
    "# import pandas as pd\n",
    "# # Specify the full path of the CSV file\n",
    "# file = \"employee_data.csv\"\n",
    "\n",
    "# # Read the CSV file and create a dataframe using a context manager\n",
    "# with open(file) as csv_file:\n",
    "#     df = pd.read_csv(csv_file)\n",
    "#     # print(df)\n",
    "\n",
    "# # Initialize the tool with access to the dataframe\n",
    "# python = PythonAstREPLTool(locals={\"df\": df})\n",
    "# # print()"
   ]
  },
  {
   "cell_type": "code",
   "execution_count": 271,
   "metadata": {},
   "outputs": [],
   "source": [
    "# # loader = CSVLoader(file_path=file,encoding=\"utf-8\")\n",
    "# loader = CSVLoader(file_path=file, encoding=\"utf-8\", csv_args={\n",
    "#                 'delimiter': ','})\n",
    "# data = loader.load()\n",
    "# print(data)\n",
    "\n",
    "\n",
    "# vectorstoreCsv = FAISS.from_documents(data, embed)\n",
    "# # retriever=vectorstore.as_retriever()\n",
    "# # chain = ConversationalRetrievalChain.from_llm(\n",
    "# # llm = ChatOpenAI(temperature=0.0,model_name='gpt-3.5-turbo'),\n",
    "# # retriever=vectorstore.as_retriever())\n",
    "\n",
    "# python = RetrievalQA.from_chain_type(\n",
    "#     llm=llm,\n",
    "#     chain_type=\"stuff\",\n",
    "#     retriever=vectorstoreCsv.as_retriever(),\n",
    "# )"
   ]
  },
  {
   "cell_type": "code",
   "execution_count": 272,
   "metadata": {},
   "outputs": [],
   "source": [
    "# create calculator tool\n",
    "calculator = LLMMathChain.from_llm(llm=llm, verbose=True)"
   ]
  },
  {
   "cell_type": "code",
   "execution_count": 273,
   "metadata": {},
   "outputs": [
    {
     "name": "stdout",
     "output_type": "stream",
     "text": [
      "['employee_id', 'name', 'position', 'organizational_unit', 'rank', 'hire_date', 'regularization_date', 'vacation_leave', 'sick_leave', 'basic_pay_in_php', 'employment_status', 'supervisor']\n"
     ]
    }
   ],
   "source": [
    "# create variables for f strings embedded in the prompts\n",
    "user = 'Alexander Verdad' # set user\n",
    "df_columns = df.columns.to_list() # print column names of df\n",
    "print(df_columns)"
   ]
  },
  {
   "cell_type": "code",
   "execution_count": 274,
   "metadata": {},
   "outputs": [],
   "source": [
    "# prep the (tk policy) vectordb retriever, the python_repl(with df access) and langchain calculator as tools for the agent\n",
    "tools = [\n",
    "    Tool(\n",
    "        name = \"Timekeeping Policies\",\n",
    "        func=timekeeping_policy.run,\n",
    "        description=\"\"\"\n",
    "        Useful for when you need to answer questions about employee timekeeping policies.\n",
    "        \"\"\"\n",
    "    ),\n",
    "    Tool(\n",
    "        name = \"Employee Data\",\n",
    "        func=python.run,\n",
    "        description = f\"\"\"\n",
    "        Useful for when you need to answer questions about employee data stored in pandas dataframe 'df'. \n",
    "        Run python pandas operations on 'df' to help you get the right answer.\n",
    "        'df' has the following columns: {df_columns}\n",
    "        \n",
    "        <user>: How many Sick Leave do I have left?\n",
    "        <assistant>: df[df['name'] == '{user}']['sick_leave']\n",
    "        <assistant>: You have n sick leaves left.              \n",
    "        \"\"\"\n",
    "    ),\n",
    "    Tool(\n",
    "        name = \"Calculator\",\n",
    "        func=calculator.run,\n",
    "        description = f\"\"\"\n",
    "        Useful when you need to do math operations or arithmetic.\n",
    "        \"\"\"\n",
    "    )\n",
    "]"
   ]
  },
  {
   "cell_type": "code",
   "execution_count": 275,
   "metadata": {},
   "outputs": [],
   "source": [
    "# change the value of the prefix argument in the initialize_agent function. This will overwrite the default prompt template of the zero shot agent type\n",
    "agent_kwargs = {'prefix': f'You are friendly HR assistant. You are tasked to assist the current user: {user} on questions related to HR. You have access to the following tools:'}"
   ]
  },
  {
   "cell_type": "code",
   "execution_count": 276,
   "metadata": {},
   "outputs": [],
   "source": [
    "# initialize the LLM agent\n",
    "agent = initialize_agent(tools, \n",
    "                         llm, \n",
    "                         agent=AgentType.ZERO_SHOT_REACT_DESCRIPTION, \n",
    "                         verbose=True, \n",
    "                         agent_kwargs=agent_kwargs\n",
    "                         )"
   ]
  },
  {
   "cell_type": "code",
   "execution_count": 277,
   "metadata": {},
   "outputs": [],
   "source": [
    "# define q and a function for frontend\n",
    "def get_response(user_input):\n",
    "    response = agent.run(user_input)\n",
    "    return response"
   ]
  },
  {
   "cell_type": "code",
   "execution_count": 278,
   "metadata": {},
   "outputs": [
    {
     "name": "stdout",
     "output_type": "stream",
     "text": [
      "You are friendly HR assistant. You are tasked to assist the current user: Alexander Verdad on questions related to HR. You have access to the following tools:\n",
      "\n",
      "Timekeeping Policies: \n",
      "        Useful for when you need to answer questions about employee timekeeping policies.\n",
      "        \n",
      "Employee Data: \n",
      "        Useful for when you need to answer questions about employee data stored in pandas dataframe 'df'. \n",
      "        Run python pandas operations on 'df' to help you get the right answer.\n",
      "        'df' has the following columns: ['employee_id', 'name', 'position', 'organizational_unit', 'rank', 'hire_date', 'regularization_date', 'vacation_leave', 'sick_leave', 'basic_pay_in_php', 'employment_status', 'supervisor']\n",
      "        \n",
      "        <user>: How many Sick Leave do I have left?\n",
      "        <assistant>: df[df['name'] == 'Alexander Verdad']['sick_leave']\n",
      "        <assistant>: You have n sick leaves left.              \n",
      "        \n",
      "Calculator: \n",
      "        Useful when you need to do math operations or arithmetic.\n",
      "        \n",
      "\n",
      "Use the following format:\n",
      "\n",
      "Question: the input question you must answer\n",
      "Thought: you should always think about what to do\n",
      "Action: the action to take, should be one of [Timekeeping Policies, Employee Data, Calculator]\n",
      "Action Input: the input to the action\n",
      "Observation: the result of the action\n",
      "... (this Thought/Action/Action Input/Observation can repeat N times)\n",
      "Thought: I now know the final answer\n",
      "Final Answer: the final answer to the original input question\n",
      "\n",
      "Begin!\n",
      "\n",
      "Question: {input}\n",
      "Thought:{agent_scratchpad}\n"
     ]
    }
   ],
   "source": [
    "print(agent.agent.llm_chain.prompt.template)"
   ]
  },
  {
   "cell_type": "code",
   "execution_count": 279,
   "metadata": {},
   "outputs": [],
   "source": [
    "# get_response('What is my name and employee id?')"
   ]
  },
  {
   "cell_type": "code",
   "execution_count": 280,
   "metadata": {},
   "outputs": [
    {
     "name": "stdout",
     "output_type": "stream",
     "text": [
      "\n",
      "\n",
      "\u001b[1m> Entering new  chain...\u001b[0m\n",
      "\u001b[32;1m\u001b[1;3mI should check the timekeeping policies to see if probationary employees are allowed to take vacation leaves.\n",
      "Action: Timekeeping Policies\n",
      "Action Input: Search for \"vacation leaves for probationary employees\"\u001b[0m\n",
      "Observation: \u001b[36;1m\u001b[1;3mBased on the context given, there is no information about vacation leaves for probationary employees. The only leaves mentioned for probationary employees are Unpaid Leave, Military Service Leave, Jury Duty/Civic Duty Leave, Personal Leave. However, these are not vacation leaves.\u001b[0m\n",
      "Thought:\u001b[32;1m\u001b[1;3mI should check the employee data to see if Alexander Verdad is on probation.\n",
      "Action: Employee Data\n",
      "Action Input: df[df['name'] == 'Alexander Verdad']['employment_status']\u001b[0m\n",
      "Observation: \u001b[33;1m\u001b[1;3m2    Permanent\n",
      "Name: employment_status, dtype: object\u001b[0m\n",
      "Thought:"
     ]
    },
    {
     "name": "stderr",
     "output_type": "stream",
     "text": [
      "Retrying langchain.chat_models.openai.ChatOpenAI.completion_with_retry.<locals>._completion_with_retry in 1.0 seconds as it raised RateLimitError: Rate limit reached for default-gpt-3.5-turbo in organization org-ED7dbl5wnhP3402U5wUi2qw1 on requests per min. Limit: 3 / min. Please try again in 20s. Contact us through our help center at help.openai.com if you continue to have issues. Please add a payment method to your account to increase your rate limit. Visit https://platform.openai.com/account/billing to add a payment method..\n",
      "Retrying langchain.chat_models.openai.ChatOpenAI.completion_with_retry.<locals>._completion_with_retry in 2.0 seconds as it raised RateLimitError: Rate limit reached for default-gpt-3.5-turbo in organization org-ED7dbl5wnhP3402U5wUi2qw1 on requests per min. Limit: 3 / min. Please try again in 20s. Contact us through our help center at help.openai.com if you continue to have issues. Please add a payment method to your account to increase your rate limit. Visit https://platform.openai.com/account/billing to add a payment method..\n",
      "Retrying langchain.chat_models.openai.ChatOpenAI.completion_with_retry.<locals>._completion_with_retry in 4.0 seconds as it raised RateLimitError: Rate limit reached for default-gpt-3.5-turbo in organization org-ED7dbl5wnhP3402U5wUi2qw1 on requests per min. Limit: 3 / min. Please try again in 20s. Contact us through our help center at help.openai.com if you continue to have issues. Please add a payment method to your account to increase your rate limit. Visit https://platform.openai.com/account/billing to add a payment method..\n",
      "Retrying langchain.chat_models.openai.ChatOpenAI.completion_with_retry.<locals>._completion_with_retry in 8.0 seconds as it raised RateLimitError: Rate limit reached for default-gpt-3.5-turbo in organization org-ED7dbl5wnhP3402U5wUi2qw1 on requests per min. Limit: 3 / min. Please try again in 20s. Contact us through our help center at help.openai.com if you continue to have issues. Please add a payment method to your account to increase your rate limit. Visit https://platform.openai.com/account/billing to add a payment method..\n"
     ]
    },
    {
     "name": "stdout",
     "output_type": "stream",
     "text": [
      "\u001b[32;1m\u001b[1;3mAlexander Verdad is a permanent employee and not on probation. I can answer the original question.\n",
      "Final Answer: Yes, Alexander Verdad is allowed to have vacation leaves as a permanent employee.\u001b[0m\n",
      "\n",
      "\u001b[1m> Finished chain.\u001b[0m\n"
     ]
    },
    {
     "data": {
      "text/plain": [
       "'Yes, Alexander Verdad is allowed to have vacation leaves as a permanent employee.'"
      ]
     },
     "execution_count": 280,
     "metadata": {},
     "output_type": "execute_result"
    }
   ],
   "source": [
    "\n",
    "get_response('Are employees on probation allowed to have vacation leaves?')"
   ]
  },
  {
   "cell_type": "code",
   "execution_count": 283,
   "metadata": {},
   "outputs": [
    {
     "name": "stdout",
     "output_type": "stream",
     "text": [
      "\n",
      "\n",
      "\u001b[1m> Entering new  chain...\u001b[0m\n",
      "\u001b[32;1m\u001b[1;3mI need to check the employee data for Alexander Verdad to see how many vacation leaves he has left, and also check the timekeeping policies for the policy on unused VLs.\n",
      "Action: Employee Data\n",
      "Action Input: df[df['name'] == 'Alexander Verdad']['vacation_leave']\u001b[0m\n",
      "Observation: \u001b[33;1m\u001b[1;3m2    45\n",
      "Name: vacation_leave, dtype: int64\u001b[0m\n",
      "Thought:\u001b[32;1m\u001b[1;3mNow I need to check the timekeeping policies for the policy on unused VLs.\n",
      "Action: Timekeeping Policies\n",
      "Action Input: Check the company policy on unused vacation leaves.\u001b[0m\n",
      "Observation: \u001b[36;1m\u001b[1;3mAccording to the company policy, unused Vacation Leave can be carried over to the next year, but the total accumulated leave should not exceed 30 days. Any excess leave will be forfeited. Unused Vacation Leave can also be encashed at the end of the year at the basic salary rate. However, employees on probation are not eligible for Vacation Leave. Leave applications must be submitted through the Employee Self Service portal at least one day before the intended leave date, and approval from the immediate supervisor is required.\u001b[0m\n",
      "Thought:"
     ]
    },
    {
     "name": "stderr",
     "output_type": "stream",
     "text": [
      "Retrying langchain.chat_models.openai.ChatOpenAI.completion_with_retry.<locals>._completion_with_retry in 1.0 seconds as it raised RateLimitError: Rate limit reached for default-gpt-3.5-turbo in organization org-ED7dbl5wnhP3402U5wUi2qw1 on requests per min. Limit: 3 / min. Please try again in 20s. Contact us through our help center at help.openai.com if you continue to have issues. Please add a payment method to your account to increase your rate limit. Visit https://platform.openai.com/account/billing to add a payment method..\n",
      "Retrying langchain.chat_models.openai.ChatOpenAI.completion_with_retry.<locals>._completion_with_retry in 2.0 seconds as it raised RateLimitError: Rate limit reached for default-gpt-3.5-turbo in organization org-ED7dbl5wnhP3402U5wUi2qw1 on requests per min. Limit: 3 / min. Please try again in 20s. Contact us through our help center at help.openai.com if you continue to have issues. Please add a payment method to your account to increase your rate limit. Visit https://platform.openai.com/account/billing to add a payment method..\n",
      "Retrying langchain.chat_models.openai.ChatOpenAI.completion_with_retry.<locals>._completion_with_retry in 4.0 seconds as it raised RateLimitError: Rate limit reached for default-gpt-3.5-turbo in organization org-ED7dbl5wnhP3402U5wUi2qw1 on requests per min. Limit: 3 / min. Please try again in 20s. Contact us through our help center at help.openai.com if you continue to have issues. Please add a payment method to your account to increase your rate limit. Visit https://platform.openai.com/account/billing to add a payment method..\n",
      "Retrying langchain.chat_models.openai.ChatOpenAI.completion_with_retry.<locals>._completion_with_retry in 8.0 seconds as it raised RateLimitError: Rate limit reached for default-gpt-3.5-turbo in organization org-ED7dbl5wnhP3402U5wUi2qw1 on requests per min. Limit: 3 / min. Please try again in 20s. Contact us through our help center at help.openai.com if you continue to have issues. Please add a payment method to your account to increase your rate limit. Visit https://platform.openai.com/account/billing to add a payment method..\n"
     ]
    },
    {
     "name": "stdout",
     "output_type": "stream",
     "text": [
      "\u001b[32;1m\u001b[1;3mSo Alexander Verdad has 45 vacation leaves left, and according to the company policy, he can carry over unused leaves up to a maximum of 30 days, and can also choose to encash them at the end of the year at the basic salary rate. \n",
      "Final Answer: Alexander Verdad has 45 vacation leaves left and can carry over unused leaves up to a maximum of 30 days, or encash them at the end of the year at the basic salary rate.\u001b[0m\n",
      "\n",
      "\u001b[1m> Finished chain.\u001b[0m\n"
     ]
    },
    {
     "data": {
      "text/plain": [
       "'Alexander Verdad has 45 vacation leaves left and can carry over unused leaves up to a maximum of 30 days, or encash them at the end of the year at the basic salary rate.'"
      ]
     },
     "execution_count": 283,
     "metadata": {},
     "output_type": "execute_result"
    }
   ],
   "source": [
    "get_response(\"How many vacation leaves do I have left and what is the policy on unused VLs?\")"
   ]
  },
  {
   "cell_type": "code",
   "execution_count": 282,
   "metadata": {},
   "outputs": [
    {
     "name": "stdout",
     "output_type": "stream",
     "text": [
      "\n",
      "\n",
      "\u001b[1m> Entering new  chain...\u001b[0m\n"
     ]
    },
    {
     "name": "stderr",
     "output_type": "stream",
     "text": [
      "Retrying langchain.chat_models.openai.ChatOpenAI.completion_with_retry.<locals>._completion_with_retry in 1.0 seconds as it raised RateLimitError: Rate limit reached for default-gpt-3.5-turbo in organization org-ED7dbl5wnhP3402U5wUi2qw1 on requests per min. Limit: 3 / min. Please try again in 20s. Contact us through our help center at help.openai.com if you continue to have issues. Please add a payment method to your account to increase your rate limit. Visit https://platform.openai.com/account/billing to add a payment method..\n",
      "Retrying langchain.chat_models.openai.ChatOpenAI.completion_with_retry.<locals>._completion_with_retry in 2.0 seconds as it raised RateLimitError: Rate limit reached for default-gpt-3.5-turbo in organization org-ED7dbl5wnhP3402U5wUi2qw1 on requests per min. Limit: 3 / min. Please try again in 20s. Contact us through our help center at help.openai.com if you continue to have issues. Please add a payment method to your account to increase your rate limit. Visit https://platform.openai.com/account/billing to add a payment method..\n",
      "Retrying langchain.chat_models.openai.ChatOpenAI.completion_with_retry.<locals>._completion_with_retry in 4.0 seconds as it raised RateLimitError: Rate limit reached for default-gpt-3.5-turbo in organization org-ED7dbl5wnhP3402U5wUi2qw1 on requests per min. Limit: 3 / min. Please try again in 20s. Contact us through our help center at help.openai.com if you continue to have issues. Please add a payment method to your account to increase your rate limit. Visit https://platform.openai.com/account/billing to add a payment method..\n",
      "Retrying langchain.chat_models.openai.ChatOpenAI.completion_with_retry.<locals>._completion_with_retry in 8.0 seconds as it raised RateLimitError: Rate limit reached for default-gpt-3.5-turbo in organization org-ED7dbl5wnhP3402U5wUi2qw1 on requests per min. Limit: 3 / min. Please try again in 20s. Contact us through our help center at help.openai.com if you continue to have issues. Please add a payment method to your account to increase your rate limit. Visit https://platform.openai.com/account/billing to add a payment method..\n"
     ]
    },
    {
     "name": "stdout",
     "output_type": "stream",
     "text": [
      "\u001b[32;1m\u001b[1;3mI need to check the timekeeping policies and employee data to calculate the payout.\n",
      "Action: Timekeeping Policies\n",
      "Action Input: Check the policy on unused VL payouts\u001b[0m"
     ]
    },
    {
     "name": "stderr",
     "output_type": "stream",
     "text": [
      "Retrying langchain.chat_models.openai.ChatOpenAI.completion_with_retry.<locals>._completion_with_retry in 1.0 seconds as it raised RateLimitError: Rate limit reached for default-gpt-3.5-turbo in organization org-ED7dbl5wnhP3402U5wUi2qw1 on requests per min. Limit: 3 / min. Please try again in 20s. Contact us through our help center at help.openai.com if you continue to have issues. Please add a payment method to your account to increase your rate limit. Visit https://platform.openai.com/account/billing to add a payment method..\n",
      "Retrying langchain.chat_models.openai.ChatOpenAI.completion_with_retry.<locals>._completion_with_retry in 2.0 seconds as it raised RateLimitError: Rate limit reached for default-gpt-3.5-turbo in organization org-ED7dbl5wnhP3402U5wUi2qw1 on requests per min. Limit: 3 / min. Please try again in 20s. Contact us through our help center at help.openai.com if you continue to have issues. Please add a payment method to your account to increase your rate limit. Visit https://platform.openai.com/account/billing to add a payment method..\n",
      "Retrying langchain.chat_models.openai.ChatOpenAI.completion_with_retry.<locals>._completion_with_retry in 4.0 seconds as it raised RateLimitError: Rate limit reached for default-gpt-3.5-turbo in organization org-ED7dbl5wnhP3402U5wUi2qw1 on requests per min. Limit: 3 / min. Please try again in 20s. Contact us through our help center at help.openai.com if you continue to have issues. Please add a payment method to your account to increase your rate limit. Visit https://platform.openai.com/account/billing to add a payment method..\n",
      "Retrying langchain.chat_models.openai.ChatOpenAI.completion_with_retry.<locals>._completion_with_retry in 8.0 seconds as it raised RateLimitError: Rate limit reached for default-gpt-3.5-turbo in organization org-ED7dbl5wnhP3402U5wUi2qw1 on requests per min. Limit: 3 / min. Please try again in 20s. Contact us through our help center at help.openai.com if you continue to have issues. Please add a payment method to your account to increase your rate limit. Visit https://platform.openai.com/account/billing to add a payment method..\n"
     ]
    },
    {
     "name": "stdout",
     "output_type": "stream",
     "text": [
      "\n",
      "Observation: \u001b[36;1m\u001b[1;3mUnused Vacation Leave can be encashed at the end of the year at the basic salary rate. Encashment rate is basic salary divided by 30 days multiplied by unused leaves to be encashed.\u001b[0m\n",
      "Thought:"
     ]
    },
    {
     "name": "stderr",
     "output_type": "stream",
     "text": [
      "Retrying langchain.chat_models.openai.ChatOpenAI.completion_with_retry.<locals>._completion_with_retry in 1.0 seconds as it raised RateLimitError: Rate limit reached for default-gpt-3.5-turbo in organization org-ED7dbl5wnhP3402U5wUi2qw1 on requests per min. Limit: 3 / min. Please try again in 20s. Contact us through our help center at help.openai.com if you continue to have issues. Please add a payment method to your account to increase your rate limit. Visit https://platform.openai.com/account/billing to add a payment method..\n",
      "Retrying langchain.chat_models.openai.ChatOpenAI.completion_with_retry.<locals>._completion_with_retry in 2.0 seconds as it raised RateLimitError: Rate limit reached for default-gpt-3.5-turbo in organization org-ED7dbl5wnhP3402U5wUi2qw1 on requests per min. Limit: 3 / min. Please try again in 20s. Contact us through our help center at help.openai.com if you continue to have issues. Please add a payment method to your account to increase your rate limit. Visit https://platform.openai.com/account/billing to add a payment method..\n",
      "Retrying langchain.chat_models.openai.ChatOpenAI.completion_with_retry.<locals>._completion_with_retry in 4.0 seconds as it raised RateLimitError: Rate limit reached for default-gpt-3.5-turbo in organization org-ED7dbl5wnhP3402U5wUi2qw1 on requests per min. Limit: 3 / min. Please try again in 20s. Contact us through our help center at help.openai.com if you continue to have issues. Please add a payment method to your account to increase your rate limit. Visit https://platform.openai.com/account/billing to add a payment method..\n",
      "Retrying langchain.chat_models.openai.ChatOpenAI.completion_with_retry.<locals>._completion_with_retry in 8.0 seconds as it raised RateLimitError: Rate limit reached for default-gpt-3.5-turbo in organization org-ED7dbl5wnhP3402U5wUi2qw1 on requests per min. Limit: 3 / min. Please try again in 20s. Contact us through our help center at help.openai.com if you continue to have issues. Please add a payment method to your account to increase your rate limit. Visit https://platform.openai.com/account/billing to add a payment method..\n"
     ]
    },
    {
     "name": "stdout",
     "output_type": "stream",
     "text": [
      "\u001b[32;1m\u001b[1;3mNow I need to get Alexander Verdad's basic salary and unused VLs from the employee data.\n",
      "Action: Employee Data\n",
      "Action Input: df[df['name'] == 'Alexander Verdad'][['basic_pay_in_php', 'vacation_leave']]\u001b[0m\n",
      "Observation: \u001b[33;1m\u001b[1;3m   basic_pay_in_php  vacation_leave\n",
      "2             15000              45\u001b[0m\n",
      "Thought:"
     ]
    },
    {
     "name": "stderr",
     "output_type": "stream",
     "text": [
      "Retrying langchain.chat_models.openai.ChatOpenAI.completion_with_retry.<locals>._completion_with_retry in 1.0 seconds as it raised RateLimitError: Rate limit reached for default-gpt-3.5-turbo in organization org-ED7dbl5wnhP3402U5wUi2qw1 on requests per min. Limit: 3 / min. Please try again in 20s. Contact us through our help center at help.openai.com if you continue to have issues. Please add a payment method to your account to increase your rate limit. Visit https://platform.openai.com/account/billing to add a payment method..\n",
      "Retrying langchain.chat_models.openai.ChatOpenAI.completion_with_retry.<locals>._completion_with_retry in 2.0 seconds as it raised RateLimitError: Rate limit reached for default-gpt-3.5-turbo in organization org-ED7dbl5wnhP3402U5wUi2qw1 on requests per min. Limit: 3 / min. Please try again in 20s. Contact us through our help center at help.openai.com if you continue to have issues. Please add a payment method to your account to increase your rate limit. Visit https://platform.openai.com/account/billing to add a payment method..\n",
      "Retrying langchain.chat_models.openai.ChatOpenAI.completion_with_retry.<locals>._completion_with_retry in 4.0 seconds as it raised RateLimitError: Rate limit reached for default-gpt-3.5-turbo in organization org-ED7dbl5wnhP3402U5wUi2qw1 on requests per min. Limit: 3 / min. Please try again in 20s. Contact us through our help center at help.openai.com if you continue to have issues. Please add a payment method to your account to increase your rate limit. Visit https://platform.openai.com/account/billing to add a payment method..\n",
      "Retrying langchain.chat_models.openai.ChatOpenAI.completion_with_retry.<locals>._completion_with_retry in 8.0 seconds as it raised RateLimitError: Rate limit reached for default-gpt-3.5-turbo in organization org-ED7dbl5wnhP3402U5wUi2qw1 on requests per min. Limit: 3 / min. Please try again in 20s. Contact us through our help center at help.openai.com if you continue to have issues. Please add a payment method to your account to increase your rate limit. Visit https://platform.openai.com/account/billing to add a payment method..\n"
     ]
    },
    {
     "name": "stdout",
     "output_type": "stream",
     "text": [
      "\u001b[32;1m\u001b[1;3mNow I can use the formula to calculate the payout.\n",
      "Action: Calculator\n",
      "Action Input: (15000/30)*45\u001b[0m\n",
      "\n",
      "\u001b[1m> Entering new  chain...\u001b[0m\n",
      "(15000/30)*45"
     ]
    },
    {
     "name": "stderr",
     "output_type": "stream",
     "text": [
      "Retrying langchain.chat_models.openai.ChatOpenAI.completion_with_retry.<locals>._completion_with_retry in 1.0 seconds as it raised RateLimitError: Rate limit reached for default-gpt-3.5-turbo in organization org-ED7dbl5wnhP3402U5wUi2qw1 on requests per min. Limit: 3 / min. Please try again in 20s. Contact us through our help center at help.openai.com if you continue to have issues. Please add a payment method to your account to increase your rate limit. Visit https://platform.openai.com/account/billing to add a payment method..\n",
      "Retrying langchain.chat_models.openai.ChatOpenAI.completion_with_retry.<locals>._completion_with_retry in 2.0 seconds as it raised RateLimitError: Rate limit reached for default-gpt-3.5-turbo in organization org-ED7dbl5wnhP3402U5wUi2qw1 on requests per min. Limit: 3 / min. Please try again in 20s. Contact us through our help center at help.openai.com if you continue to have issues. Please add a payment method to your account to increase your rate limit. Visit https://platform.openai.com/account/billing to add a payment method..\n",
      "Retrying langchain.chat_models.openai.ChatOpenAI.completion_with_retry.<locals>._completion_with_retry in 4.0 seconds as it raised RateLimitError: Rate limit reached for default-gpt-3.5-turbo in organization org-ED7dbl5wnhP3402U5wUi2qw1 on requests per min. Limit: 3 / min. Please try again in 20s. Contact us through our help center at help.openai.com if you continue to have issues. Please add a payment method to your account to increase your rate limit. Visit https://platform.openai.com/account/billing to add a payment method..\n",
      "Retrying langchain.chat_models.openai.ChatOpenAI.completion_with_retry.<locals>._completion_with_retry in 8.0 seconds as it raised RateLimitError: Rate limit reached for default-gpt-3.5-turbo in organization org-ED7dbl5wnhP3402U5wUi2qw1 on requests per min. Limit: 3 / min. Please try again in 20s. Contact us through our help center at help.openai.com if you continue to have issues. Please add a payment method to your account to increase your rate limit. Visit https://platform.openai.com/account/billing to add a payment method..\n",
      "Retrying langchain.chat_models.openai.ChatOpenAI.completion_with_retry.<locals>._completion_with_retry in 16.0 seconds as it raised RateLimitError: Rate limit reached for default-gpt-3.5-turbo in organization org-ED7dbl5wnhP3402U5wUi2qw1 on requests per min. Limit: 3 / min. Please try again in 20s. Contact us through our help center at help.openai.com if you continue to have issues. Please add a payment method to your account to increase your rate limit. Visit https://platform.openai.com/account/billing to add a payment method..\n"
     ]
    },
    {
     "name": "stdout",
     "output_type": "stream",
     "text": [
      "\u001b[32;1m\u001b[1;3m```text\n",
      "(15000/30)*45\n",
      "```\n",
      "...numexpr.evaluate(\"(15000/30)*45\")...\n",
      "\u001b[0m\n",
      "Answer: \u001b[33;1m\u001b[1;3m22500.0\u001b[0m\n",
      "\u001b[1m> Finished chain.\u001b[0m\n",
      "\n",
      "Observation: \u001b[38;5;200m\u001b[1;3mAnswer: 22500.0\u001b[0m\n",
      "Thought:"
     ]
    },
    {
     "name": "stderr",
     "output_type": "stream",
     "text": [
      "Retrying langchain.chat_models.openai.ChatOpenAI.completion_with_retry.<locals>._completion_with_retry in 1.0 seconds as it raised RateLimitError: Rate limit reached for default-gpt-3.5-turbo in organization org-ED7dbl5wnhP3402U5wUi2qw1 on requests per min. Limit: 3 / min. Please try again in 20s. Contact us through our help center at help.openai.com if you continue to have issues. Please add a payment method to your account to increase your rate limit. Visit https://platform.openai.com/account/billing to add a payment method..\n",
      "Retrying langchain.chat_models.openai.ChatOpenAI.completion_with_retry.<locals>._completion_with_retry in 2.0 seconds as it raised RateLimitError: Rate limit reached for default-gpt-3.5-turbo in organization org-ED7dbl5wnhP3402U5wUi2qw1 on requests per min. Limit: 3 / min. Please try again in 20s. Contact us through our help center at help.openai.com if you continue to have issues. Please add a payment method to your account to increase your rate limit. Visit https://platform.openai.com/account/billing to add a payment method..\n"
     ]
    },
    {
     "name": "stdout",
     "output_type": "stream",
     "text": [
      "\u001b[32;1m\u001b[1;3mI now know the final answer.\n",
      "Final Answer: If you encash your 45 unused VLs, you will be paid Php 22,500.\u001b[0m\n",
      "\n",
      "\u001b[1m> Finished chain.\u001b[0m\n"
     ]
    },
    {
     "data": {
      "text/plain": [
       "'If you encash your 45 unused VLs, you will be paid Php 22,500.'"
      ]
     },
     "execution_count": 282,
     "metadata": {},
     "output_type": "execute_result"
    }
   ],
   "source": [
    "get_response(\"How much will I be paid if I encash my unused VLs?\")"
   ]
  },
  {
   "cell_type": "code",
   "execution_count": null,
   "metadata": {},
   "outputs": [],
   "source": []
  }
 ],
 "metadata": {
  "kernelspec": {
   "display_name": "Python 3.10.2 64-bit",
   "language": "python",
   "name": "python3"
  },
  "language_info": {
   "codemirror_mode": {
    "name": "ipython",
    "version": 3
   },
   "file_extension": ".py",
   "mimetype": "text/x-python",
   "name": "python",
   "nbconvert_exporter": "python",
   "pygments_lexer": "ipython3",
   "version": "3.10.2"
  },
  "orig_nbformat": 4,
  "vscode": {
   "interpreter": {
    "hash": "981cc7f460dc3ad49f1bbaadde9c38788d3b59d0c49edfce12f416a560823fea"
   }
  }
 },
 "nbformat": 4,
 "nbformat_minor": 2
}
